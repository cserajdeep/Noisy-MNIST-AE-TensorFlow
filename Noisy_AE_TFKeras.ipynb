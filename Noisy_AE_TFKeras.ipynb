{
  "nbformat": 4,
  "nbformat_minor": 0,
  "metadata": {
    "colab": {
      "name": "Noisy_AE_TFKeras.ipynb",
      "provenance": [],
      "collapsed_sections": []
    },
    "kernelspec": {
      "name": "python3",
      "display_name": "Python 3"
    },
    "language_info": {
      "name": "python"
    },
    "accelerator": "GPU"
  },
  "cells": [
    {
      "cell_type": "code",
      "metadata": {
        "colab": {
          "base_uri": "https://localhost:8080/"
        },
        "id": "JjExNoC2VY_W",
        "outputId": "c7fa8848-428f-4090-896b-4989b3f491eb"
      },
      "source": [
        "## https://www.analyticsvidhya.com/blog/2021/07/image-denoising-using-autoencoders-a-beginners-guide-to-deep-learning-project/\n",
        "!pip install tensorboard"
      ],
      "execution_count": null,
      "outputs": [
        {
          "output_type": "stream",
          "text": [
            "Requirement already satisfied: tensorboard in /usr/local/lib/python3.7/dist-packages (2.5.0)\n",
            "Requirement already satisfied: google-auth-oauthlib<0.5,>=0.4.1 in /usr/local/lib/python3.7/dist-packages (from tensorboard) (0.4.4)\n",
            "Requirement already satisfied: requests<3,>=2.21.0 in /usr/local/lib/python3.7/dist-packages (from tensorboard) (2.23.0)\n",
            "Requirement already satisfied: tensorboard-data-server<0.7.0,>=0.6.0 in /usr/local/lib/python3.7/dist-packages (from tensorboard) (0.6.1)\n",
            "Requirement already satisfied: protobuf>=3.6.0 in /usr/local/lib/python3.7/dist-packages (from tensorboard) (3.17.3)\n",
            "Requirement already satisfied: grpcio>=1.24.3 in /usr/local/lib/python3.7/dist-packages (from tensorboard) (1.34.1)\n",
            "Requirement already satisfied: tensorboard-plugin-wit>=1.6.0 in /usr/local/lib/python3.7/dist-packages (from tensorboard) (1.8.0)\n",
            "Requirement already satisfied: setuptools>=41.0.0 in /usr/local/lib/python3.7/dist-packages (from tensorboard) (57.2.0)\n",
            "Requirement already satisfied: google-auth<2,>=1.6.3 in /usr/local/lib/python3.7/dist-packages (from tensorboard) (1.32.1)\n",
            "Requirement already satisfied: wheel>=0.26 in /usr/local/lib/python3.7/dist-packages (from tensorboard) (0.36.2)\n",
            "Requirement already satisfied: absl-py>=0.4 in /usr/local/lib/python3.7/dist-packages (from tensorboard) (0.12.0)\n",
            "Requirement already satisfied: werkzeug>=0.11.15 in /usr/local/lib/python3.7/dist-packages (from tensorboard) (1.0.1)\n",
            "Requirement already satisfied: numpy>=1.12.0 in /usr/local/lib/python3.7/dist-packages (from tensorboard) (1.19.5)\n",
            "Requirement already satisfied: markdown>=2.6.8 in /usr/local/lib/python3.7/dist-packages (from tensorboard) (3.3.4)\n",
            "Requirement already satisfied: six in /usr/local/lib/python3.7/dist-packages (from absl-py>=0.4->tensorboard) (1.15.0)\n",
            "Requirement already satisfied: cachetools<5.0,>=2.0.0 in /usr/local/lib/python3.7/dist-packages (from google-auth<2,>=1.6.3->tensorboard) (4.2.2)\n",
            "Requirement already satisfied: rsa<5,>=3.1.4 in /usr/local/lib/python3.7/dist-packages (from google-auth<2,>=1.6.3->tensorboard) (4.7.2)\n",
            "Requirement already satisfied: pyasn1-modules>=0.2.1 in /usr/local/lib/python3.7/dist-packages (from google-auth<2,>=1.6.3->tensorboard) (0.2.8)\n",
            "Requirement already satisfied: requests-oauthlib>=0.7.0 in /usr/local/lib/python3.7/dist-packages (from google-auth-oauthlib<0.5,>=0.4.1->tensorboard) (1.3.0)\n",
            "Requirement already satisfied: importlib-metadata in /usr/local/lib/python3.7/dist-packages (from markdown>=2.6.8->tensorboard) (4.6.1)\n",
            "Requirement already satisfied: pyasn1<0.5.0,>=0.4.6 in /usr/local/lib/python3.7/dist-packages (from pyasn1-modules>=0.2.1->google-auth<2,>=1.6.3->tensorboard) (0.4.8)\n",
            "Requirement already satisfied: certifi>=2017.4.17 in /usr/local/lib/python3.7/dist-packages (from requests<3,>=2.21.0->tensorboard) (2021.5.30)\n",
            "Requirement already satisfied: urllib3!=1.25.0,!=1.25.1,<1.26,>=1.21.1 in /usr/local/lib/python3.7/dist-packages (from requests<3,>=2.21.0->tensorboard) (1.24.3)\n",
            "Requirement already satisfied: chardet<4,>=3.0.2 in /usr/local/lib/python3.7/dist-packages (from requests<3,>=2.21.0->tensorboard) (3.0.4)\n",
            "Requirement already satisfied: idna<3,>=2.5 in /usr/local/lib/python3.7/dist-packages (from requests<3,>=2.21.0->tensorboard) (2.10)\n",
            "Requirement already satisfied: oauthlib>=3.0.0 in /usr/local/lib/python3.7/dist-packages (from requests-oauthlib>=0.7.0->google-auth-oauthlib<0.5,>=0.4.1->tensorboard) (3.1.1)\n",
            "Requirement already satisfied: zipp>=0.5 in /usr/local/lib/python3.7/dist-packages (from importlib-metadata->markdown>=2.6.8->tensorboard) (3.5.0)\n",
            "Requirement already satisfied: typing-extensions>=3.6.4 in /usr/local/lib/python3.7/dist-packages (from importlib-metadata->markdown>=2.6.8->tensorboard) (3.7.4.3)\n"
          ],
          "name": "stdout"
        }
      ]
    },
    {
      "cell_type": "code",
      "metadata": {
        "id": "GvaaF5m9YtG5"
      },
      "source": [
        "import numpy \n",
        "import matplotlib.pyplot as plt\n",
        "from keras.models import Sequential\n",
        "from keras.layers import Dense\n",
        "from keras.datasets import mnist\n",
        "from tensorflow.keras.callbacks import TensorBoard"
      ],
      "execution_count": null,
      "outputs": []
    },
    {
      "cell_type": "code",
      "metadata": {
        "id": "DtUEDW69VeTk"
      },
      "source": [
        "(X_train, y_train), (X_test, y_test) = mnist.load_data()"
      ],
      "execution_count": null,
      "outputs": []
    },
    {
      "cell_type": "code",
      "metadata": {
        "colab": {
          "base_uri": "https://localhost:8080/"
        },
        "id": "6DQ0ZS8cVeWw",
        "outputId": "7bb01101-bc02-453f-f7e8-f90a65eca302"
      },
      "source": [
        "X_train.shape"
      ],
      "execution_count": null,
      "outputs": [
        {
          "output_type": "execute_result",
          "data": {
            "text/plain": [
              "(60000, 28, 28)"
            ]
          },
          "metadata": {
            "tags": []
          },
          "execution_count": 4
        }
      ]
    },
    {
      "cell_type": "code",
      "metadata": {
        "colab": {
          "base_uri": "https://localhost:8080/"
        },
        "id": "UmUCZ2v0VeZx",
        "outputId": "46ebabb5-1620-405e-d5f9-1e6015f74caf"
      },
      "source": [
        "X_test.shape"
      ],
      "execution_count": null,
      "outputs": [
        {
          "output_type": "execute_result",
          "data": {
            "text/plain": [
              "(10000, 28, 28)"
            ]
          },
          "metadata": {
            "tags": []
          },
          "execution_count": 5
        }
      ]
    },
    {
      "cell_type": "code",
      "metadata": {
        "colab": {
          "base_uri": "https://localhost:8080/",
          "height": 268
        },
        "id": "l1Bicp2zVedA",
        "outputId": "86e0ad93-1593-42b7-b70e-2c7be34efaab"
      },
      "source": [
        "plt.subplot(221)\n",
        "plt.imshow(X_train[0], cmap=plt.get_cmap('gray'))\n",
        "plt.subplot(222)\n",
        "plt.imshow(X_train[1], cmap=plt.get_cmap('gray'))\n",
        "plt.subplot(223)\n",
        "plt.imshow(X_train[2], cmap=plt.get_cmap('gray'))\n",
        "plt.subplot(224)\n",
        "plt.imshow(X_train[3], cmap=plt.get_cmap('gray'))\n",
        "# show the plot\n",
        "plt.show()"
      ],
      "execution_count": null,
      "outputs": [
        {
          "output_type": "display_data",
          "data": {
            "image/png": "[encoded data removed]",
            "text/plain": [
              "<Figure size 432x288 with 4 Axes>"
            ]
          },
          "metadata": {
            "tags": [],
            "needs_background": "light"
          }
        }
      ]
    },
    {
      "cell_type": "code",
      "metadata": {
        "id": "67WXEUkMVon6"
      },
      "source": [
        "num_pixels = X_train.shape[1] * X_train.shape[2]\n",
        "X_train = X_train.reshape(X_train.shape[0], num_pixels).astype('float32')\n",
        "X_test = X_test.reshape(X_test.shape[0], num_pixels).astype('float32')\n",
        "X_train = X_train / 255\n",
        "X_test = X_test / 255"
      ],
      "execution_count": null,
      "outputs": []
    },
    {
      "cell_type": "code",
      "metadata": {
        "colab": {
          "base_uri": "https://localhost:8080/"
        },
        "id": "RQWetTJ6VrDo",
        "outputId": "2c69634e-0c63-49c7-9ad1-c8e5474e6e3b"
      },
      "source": [
        "X_train.shape"
      ],
      "execution_count": null,
      "outputs": [
        {
          "output_type": "execute_result",
          "data": {
            "text/plain": [
              "(60000, 784)"
            ]
          },
          "metadata": {
            "tags": []
          },
          "execution_count": 28
        }
      ]
    },
    {
      "cell_type": "code",
      "metadata": {
        "colab": {
          "base_uri": "https://localhost:8080/"
        },
        "id": "8Pg0t2QnVrG1",
        "outputId": "6bd2d0a4-c74d-4d8d-95bb-2b358006a639"
      },
      "source": [
        "X_test.shape"
      ],
      "execution_count": null,
      "outputs": [
        {
          "output_type": "execute_result",
          "data": {
            "text/plain": [
              "(10000, 784)"
            ]
          },
          "metadata": {
            "tags": []
          },
          "execution_count": 29
        }
      ]
    },
    {
      "cell_type": "code",
      "metadata": {
        "id": "mCfSvt0JVrKA"
      },
      "source": [
        "noise_factor = 0.2\n",
        "x_train_noisy = X_train + noise_factor * numpy.random.normal(loc=0.0, scale=1.0, size=X_train.shape)\n",
        "x_test_noisy = X_test + noise_factor * numpy.random.normal(loc=0.0, scale=1.0, size=X_test.shape)\n",
        "x_train_noisy = numpy.clip(x_train_noisy, 0., 1.)\n",
        "x_test_noisy = numpy.clip(x_test_noisy, 0., 1.)"
      ],
      "execution_count": null,
      "outputs": []
    },
    {
      "cell_type": "code",
      "metadata": {
        "id": "t2Apec-aVyGO"
      },
      "source": [
        "# create model\n",
        "model = Sequential()\n",
        "model.add(Dense(500, input_dim=num_pixels, activation='relu'))\n",
        "model.add(Dense(300, activation='relu'))\n",
        "model.add(Dense(100, activation='relu'))\n",
        "model.add(Dense(300, activation='relu'))\n",
        "model.add(Dense(500, activation='relu'))\n",
        "model.add(Dense(784, activation='sigmoid'))"
      ],
      "execution_count": null,
      "outputs": []
    },
    {
      "cell_type": "code",
      "metadata": {
        "id": "ljpX7o0QVyJd"
      },
      "source": [
        "# Compile the model\n",
        "model.compile(loss=\"mean_squared_error\", optimizer='adam')"
      ],
      "execution_count": null,
      "outputs": []
    },
    {
      "cell_type": "code",
      "metadata": {
        "id": "Eb9dfCzOeK_c"
      },
      "source": [
        "!rm -rf logs"
      ],
      "execution_count": null,
      "outputs": []
    },
    {
      "cell_type": "code",
      "metadata": {
        "id": "luNwDF6SZGzo"
      },
      "source": [
        "import tensorflow as tf\n",
        "\n",
        "log_folder = \"logs\"\n",
        "file_writer_cm = tf.summary.create_file_writer(logdir)\n",
        "\n",
        "#tensorboard = TensorBoard(log_dir=\"./logs/tboard\")\n",
        "callbacks = [\n",
        "   TensorBoard(log_dir=log_folder, \n",
        "               histogram_freq=1, \n",
        "               write_graph=True,\n",
        "               write_images=True,\n",
        "               update_freq='epoch',\n",
        "               profile_batch=2,\n",
        "               embeddings_freq=1)]"
      ],
      "execution_count": null,
      "outputs": []
    },
    {
      "cell_type": "code",
      "metadata": {
        "colab": {
          "base_uri": "https://localhost:8080/"
        },
        "id": "nIeNQBd4VyMR",
        "outputId": "9aa39fc3-a303-47fe-ded4-fbfe8aef3b95"
      },
      "source": [
        "# Training model\n",
        "model.fit(x_train_noisy, X_train, validation_data=(x_test_noisy, X_test), epochs=25, batch_size=200, callbacks=callbacks)"
      ],
      "execution_count": null,
      "outputs": [
        {
          "output_type": "stream",
          "text": [
            "Epoch 1/25\n",
            "300/300 [==============================] - 3s 7ms/step - loss: 0.0686 - accuracy: 0.0085 - val_loss: 0.0194 - val_accuracy: 0.0113\n",
            "Epoch 2/25\n",
            "300/300 [==============================] - 1s 4ms/step - loss: 0.0180 - accuracy: 0.0117 - val_loss: 0.0139 - val_accuracy: 0.0127\n",
            "Epoch 3/25\n",
            "300/300 [==============================] - 1s 4ms/step - loss: 0.0136 - accuracy: 0.0124 - val_loss: 0.0115 - val_accuracy: 0.0140\n",
            "Epoch 4/25\n",
            "300/300 [==============================] - 1s 4ms/step - loss: 0.0115 - accuracy: 0.0131 - val_loss: 0.0104 - val_accuracy: 0.0157\n",
            "Epoch 5/25\n",
            "300/300 [==============================] - 1s 4ms/step - loss: 0.0102 - accuracy: 0.0136 - val_loss: 0.0094 - val_accuracy: 0.0140\n",
            "Epoch 6/25\n",
            "300/300 [==============================] - 1s 4ms/step - loss: 0.0094 - accuracy: 0.0144 - val_loss: 0.0087 - val_accuracy: 0.0146\n",
            "Epoch 7/25\n",
            "300/300 [==============================] - 1s 4ms/step - loss: 0.0087 - accuracy: 0.0145 - val_loss: 0.0085 - val_accuracy: 0.0111\n",
            "Epoch 8/25\n",
            "300/300 [==============================] - 1s 4ms/step - loss: 0.0082 - accuracy: 0.0136 - val_loss: 0.0080 - val_accuracy: 0.0134\n",
            "Epoch 9/25\n",
            "300/300 [==============================] - 1s 4ms/step - loss: 0.0078 - accuracy: 0.0142 - val_loss: 0.0077 - val_accuracy: 0.0144\n",
            "Epoch 10/25\n",
            "300/300 [==============================] - 1s 4ms/step - loss: 0.0074 - accuracy: 0.0144 - val_loss: 0.0074 - val_accuracy: 0.0134\n",
            "Epoch 11/25\n",
            "300/300 [==============================] - 1s 4ms/step - loss: 0.0071 - accuracy: 0.0144 - val_loss: 0.0071 - val_accuracy: 0.0133\n",
            "Epoch 12/25\n",
            "300/300 [==============================] - 1s 5ms/step - loss: 0.0069 - accuracy: 0.0143 - val_loss: 0.0070 - val_accuracy: 0.0147\n",
            "Epoch 13/25\n",
            "300/300 [==============================] - 1s 4ms/step - loss: 0.0066 - accuracy: 0.0140 - val_loss: 0.0067 - val_accuracy: 0.0152\n",
            "Epoch 14/25\n",
            "300/300 [==============================] - 1s 4ms/step - loss: 0.0064 - accuracy: 0.0148 - val_loss: 0.0067 - val_accuracy: 0.0170\n",
            "Epoch 15/25\n",
            "300/300 [==============================] - 1s 4ms/step - loss: 0.0063 - accuracy: 0.0143 - val_loss: 0.0064 - val_accuracy: 0.0148\n",
            "Epoch 16/25\n",
            "300/300 [==============================] - 1s 4ms/step - loss: 0.0061 - accuracy: 0.0154 - val_loss: 0.0063 - val_accuracy: 0.0162\n",
            "Epoch 17/25\n",
            "300/300 [==============================] - 1s 4ms/step - loss: 0.0060 - accuracy: 0.0144 - val_loss: 0.0062 - val_accuracy: 0.0164\n",
            "Epoch 18/25\n",
            "300/300 [==============================] - 1s 4ms/step - loss: 0.0059 - accuracy: 0.0129 - val_loss: 0.0062 - val_accuracy: 0.0148\n",
            "Epoch 19/25\n",
            "300/300 [==============================] - 1s 4ms/step - loss: 0.0058 - accuracy: 0.0159 - val_loss: 0.0061 - val_accuracy: 0.0138\n",
            "Epoch 20/25\n",
            "300/300 [==============================] - 1s 4ms/step - loss: 0.0057 - accuracy: 0.0142 - val_loss: 0.0062 - val_accuracy: 0.0136\n",
            "Epoch 21/25\n",
            "300/300 [==============================] - 1s 4ms/step - loss: 0.0056 - accuracy: 0.0145 - val_loss: 0.0059 - val_accuracy: 0.0128\n",
            "Epoch 22/25\n",
            "300/300 [==============================] - 1s 4ms/step - loss: 0.0055 - accuracy: 0.0151 - val_loss: 0.0058 - val_accuracy: 0.0162\n",
            "Epoch 23/25\n",
            "300/300 [==============================] - 1s 5ms/step - loss: 0.0054 - accuracy: 0.0147 - val_loss: 0.0058 - val_accuracy: 0.0160\n",
            "Epoch 24/25\n",
            "300/300 [==============================] - 1s 4ms/step - loss: 0.0053 - accuracy: 0.0137 - val_loss: 0.0058 - val_accuracy: 0.0171\n",
            "Epoch 25/25\n",
            "300/300 [==============================] - 1s 4ms/step - loss: 0.0052 - accuracy: 0.0142 - val_loss: 0.0058 - val_accuracy: 0.0141\n"
          ],
          "name": "stdout"
        },
        {
          "output_type": "execute_result",
          "data": {
            "text/plain": [
              "<keras.callbacks.History at 0x7fe7a23c8150>"
            ]
          },
          "metadata": {
            "tags": []
          },
          "execution_count": 35
        }
      ]
    },
    {
      "cell_type": "code",
      "metadata": {
        "colab": {
          "base_uri": "https://localhost:8080/",
          "height": 436
        },
        "id": "FRzQM4bWXE6u",
        "outputId": "fed21d9c-8833-48b9-bfad-71784b186bff"
      },
      "source": [
        "%load_ext tensorboard\n",
        "%tensorboard -- logdir logs"
      ],
      "execution_count": null,
      "outputs": [
        {
          "output_type": "stream",
          "text": [
            "The tensorboard extension is already loaded. To reload it, use:\n",
            "  %reload_ext tensorboard\n"
          ],
          "name": "stdout"
        },
        {
          "output_type": "display_data",
          "data": {
            "text/plain": [
              "ERROR: Failed to launch TensorBoard (exited with 2).\n",
              "Contents of stderr:\n",
              "2021-07-28 19:05:21.882643: I tensorflow/stream_executor/platform/default/dso_loader.cc:53] Successfully opened dynamic library libcudart.so.11.0\n",
              "usage: tensorboard [-h] [--helpfull] [--logdir PATH] [--logdir_spec PATH_SPEC]\n",
              "                   [--host ADDR] [--bind_all] [--port PORT]\n",
              "                   [--reuse_port BOOL] [--load_fast {false,auto,true}]\n",
              "                   [--extra_data_server_flags EXTRA_DATA_SERVER_FLAGS]\n",
              "                   [--grpc_creds_type {local,ssl,ssl_dev}]\n",
              "                   [--grpc_data_provider PORT] [--purge_orphaned_data BOOL]\n",
              "                   [--db URI] [--db_import] [--inspect] [--version_tb]\n",
              "                   [--tag TAG] [--event_file PATH] [--path_prefix PATH]\n",
              "                   [--window_title TEXT] [--max_reload_threads COUNT]\n",
              "                   [--reload_interval SECONDS] [--reload_task TYPE]\n",
              "                   [--reload_multifile BOOL]\n",
              "                   [--reload_multifile_inactive_secs SECONDS]\n",
              "                   [--generic_data TYPE]\n",
              "                   [--samples_per_plugin SAMPLES_PER_PLUGIN]\n",
              "                   [--whatif-use-unsafe-custom-prediction YOUR_CUSTOM_PREDICT_FUNCTION.py]\n",
              "                   [--whatif-data-dir PATH]\n",
              "                   {serve,dev} ...\n",
              "tensorboard: error: invalid choice: '--' (choose from 'serve', 'dev')"
            ]
          },
          "metadata": {
            "tags": []
          }
        }
      ]
    },
    {
      "cell_type": "code",
      "metadata": {
        "id": "bZ14LEnUV50A"
      },
      "source": [
        "# Final evaluation of the model\n",
        "pred = model.predict(x_test_noisy)"
      ],
      "execution_count": null,
      "outputs": []
    },
    {
      "cell_type": "code",
      "metadata": {
        "colab": {
          "base_uri": "https://localhost:8080/"
        },
        "id": "uMO7Z_bJWBu4",
        "outputId": "8eb8af24-51ee-4c99-be5e-65ca5eaf2399"
      },
      "source": [
        "pred.shape"
      ],
      "execution_count": null,
      "outputs": [
        {
          "output_type": "execute_result",
          "data": {
            "text/plain": [
              "(10000, 784)"
            ]
          },
          "metadata": {
            "tags": []
          },
          "execution_count": 38
        }
      ]
    },
    {
      "cell_type": "code",
      "metadata": {
        "colab": {
          "base_uri": "https://localhost:8080/",
          "height": 351
        },
        "id": "aGsDYlDPWHAr",
        "outputId": "0aa6c54a-4bb8-4d62-9a67-9f755e75920b"
      },
      "source": [
        "X_test = numpy.reshape(X_test, (10000,28,28)) *255\n",
        "pred = numpy.reshape(pred, (10000,28,28)) *255\n",
        "x_test_noisy = numpy.reshape(x_test_noisy, (-1,28,28)) *255\n",
        "plt.figure(figsize=(20, 4))\n",
        "print(\"Test Images\")\n",
        "for i in range(10,20,1):\n",
        "    plt.subplot(2, 10, i+1)\n",
        "    plt.imshow(X_test[i,:,:], cmap='gray')\n",
        "    curr_lbl = y_test[i]\n",
        "    plt.title(\"(Label: \" + str(curr_lbl) + \")\")\n",
        "plt.show()    \n",
        "plt.figure(figsize=(20, 4))\n",
        "print(\"Test Images with Noise\")\n",
        "for i in range(10,20,1):\n",
        "    plt.subplot(2, 10, i+1)\n",
        "    plt.imshow(x_test_noisy[i,:,:], cmap='gray')\n",
        "plt.show()    \n",
        "plt.figure(figsize=(20, 4))\n",
        "print(\"Reconstruction of Noisy Test Images\")\n",
        "for i in range(10,20,1):\n",
        "    plt.subplot(2, 10, i+1)\n",
        "    plt.imshow(pred[i,:,:], cmap='gray')  \n",
        "plt.show()"
      ],
      "execution_count": null,
      "outputs": [
        {
          "output_type": "stream",
          "text": [
            "Test Images\n"
          ],
          "name": "stdout"
        },
        {
          "output_type": "display_data",
          "data": {
            "image/png": "[encoded data removed]",
            "text/plain": [
              "<Figure size 1440x288 with 10 Axes>"
            ]
          },
          "metadata": {
            "tags": [],
            "needs_background": "light"
          }
        },
        {
          "output_type": "stream",
          "text": [
            "Test Images with Noise\n"
          ],
          "name": "stdout"
        },
        {
          "output_type": "display_data",
          "data": {
            "image/png": "[encoded data removed]",
            "text/plain": [
              "<Figure size 1440x288 with 10 Axes>"
            ]
          },
          "metadata": {
            "tags": [],
            "needs_background": "light"
          }
        },
        {
          "output_type": "stream",
          "text": [
            "Reconstruction of Noisy Test Images\n"
          ],
          "name": "stdout"
        },
        {
          "output_type": "display_data",
          "data": {
            "image/png": "[encoded data removed]",
            "text/plain": [
              "<Figure size 1440x288 with 10 Axes>"
            ]
          },
          "metadata": {
            "tags": [],
            "needs_background": "light"
          }
        }
      ]
    }
  ]
}